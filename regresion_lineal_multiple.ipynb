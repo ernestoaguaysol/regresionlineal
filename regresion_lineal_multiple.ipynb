{
 "nbformat": 4,
 "nbformat_minor": 2,
 "metadata": {
  "language_info": {
   "name": "python",
   "codemirror_mode": {
    "name": "ipython",
    "version": 3
   },
   "version": "3.8.2-final"
  },
  "orig_nbformat": 2,
  "file_extension": ".py",
  "mimetype": "text/x-python",
  "name": "python",
  "npconvert_exporter": "python",
  "pygments_lexer": "ipython3",
  "version": 3,
  "kernelspec": {
   "name": "python38232bit788f5f8aa22a436d811c283b199eb547",
   "display_name": "Python 3.8.2 32-bit"
  }
 },
 "cells": [
  {
   "cell_type": "code",
   "execution_count": 8,
   "metadata": {},
   "outputs": [],
   "source": [
    "import numpy as np\n",
    "import pandas as pd"
   ]
  },
  {
   "cell_type": "code",
   "execution_count": 9,
   "metadata": {},
   "outputs": [],
   "source": [
    "# importar el dataset\n",
    "datos = pd.read_csv(\"dataset_ganancia_empresas.csv\")\n",
    "X = datos.iloc[:, :-1].values\n",
    "y = datos.iloc[:, -1].values"
   ]
  },
  {
   "cell_type": "code",
   "execution_count": 10,
   "metadata": {},
   "outputs": [
    {
     "output_type": "execute_result",
     "data": {
      "text/plain": "'\\n    1 - 0 - 0 : Malvinas\\n    0 - 1 - 0 : Pilar\\n    0 - 0 - 1 : San Miguel\\n'"
     },
     "metadata": {},
     "execution_count": 10
    }
   ],
   "source": [
    "# importamos librerias para las variables ficticias\n",
    "from sklearn.preprocessing import LabelEncoder, OneHotEncoder\n",
    "\n",
    "labelEncoder = LabelEncoder()\n",
    "# codificar string como numeros\n",
    "X[:, 3] = labelEncoder.fit_transform(X[:, 3])\n",
    "\n",
    " \n",
    "# Transformador de columnas\n",
    "from sklearn.compose import ColumnTransformer\n",
    "\n",
    "transformadorDeColumnas = ColumnTransformer(\n",
    "    # Etiqueta | Encoder | columna 3\n",
    "    [('OneHot', OneHotEncoder(), [3])],\n",
    "    # a todo el resto nada\n",
    "    remainder='passthrough'\n",
    ")\n",
    "\n",
    "X = transformadorDeColumnas.fit_transform(X.tolist())\n",
    "\n",
    "'''\n",
    "    1 - 0 - 0 : Malvinas\n",
    "    0 - 1 - 0 : Pilar\n",
    "    0 - 0 - 1 : San Miguel\n",
    "'''\n",
    ""
   ]
  },
  {
   "cell_type": "code",
   "execution_count": 11,
   "metadata": {},
   "outputs": [
    {
     "output_type": "execute_result",
     "data": {
      "text/plain": "' Sacamos la primer columna\\n    0 - 0 : Malvinas\\n    1 - 0 : Pilar\\n    0 - 1 : San Miguel\\n'"
     },
     "metadata": {},
     "execution_count": 11
    }
   ],
   "source": [
    "# Resolver la trampa de la variable ficticia\n",
    "# 1: uno y todo el resto\n",
    "X = X[:, 1:]\n",
    "''' Sacamos la primer columna\n",
    "    0 - 0 : Malvinas\n",
    "    1 - 0 : Pilar\n",
    "    0 - 1 : San Miguel\n",
    "'''"
   ]
  },
  {
   "cell_type": "code",
   "execution_count": 12,
   "metadata": {},
   "outputs": [
    {
     "output_type": "execute_result",
     "data": {
      "text/plain": "LinearRegression(copy_X=True, fit_intercept=True, n_jobs=None, normalize=False)"
     },
     "metadata": {},
     "execution_count": 12
    }
   ],
   "source": [
    "from sklearn.linear_model import LinearRegression\n",
    "\n",
    "regresor = LinearRegression()\n",
    "# Entrenamiento - Una Parte de Machine Learning\n",
    "regresor.fit(X, y)"
   ]
  },
  {
   "cell_type": "code",
   "execution_count": 14,
   "metadata": {},
   "outputs": [
    {
     "output_type": "execute_result",
     "data": {
      "text/plain": "array([-2.28498085e+01,  3.14574537e+02,  8.05787166e-01, -2.64369315e-02,\n        2.75041333e-02])"
     },
     "metadata": {},
     "execution_count": 14
    }
   ],
   "source": [
    "# como no se puede visualizar pero se puede saber cuendo es 0 el intercertor\n",
    "regresor.intercept_\n",
    "# Coeficiente\n",
    "regresor.coef_\n"
   ]
  },
  {
   "cell_type": "code",
   "execution_count": 15,
   "metadata": {},
   "outputs": [
    {
     "output_type": "execute_result",
     "data": {
      "text/plain": "array([507931.54350539])"
     },
     "metadata": {},
     "execution_count": 15
    }
   ],
   "source": [
    "# Predicción\n",
    "regresor.predict([\n",
    "    [0.0, 1.0, 567577, 543366.90, 30.000]\n",
    "])"
   ]
  }
 ]
}